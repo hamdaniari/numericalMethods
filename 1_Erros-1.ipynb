{
 "cells": [
  {
   "cell_type": "markdown",
   "metadata": {},
   "source": [
    "***\n",
    "$\\mathbf{\\text{Example}}$<br>\n",
    "***\n",
    "The first derivative of a function can be approximated as:\n",
    "$$f^{\\prime}(x) = \\frac{f(x+h)-f(x)}{h}$$\n",
    "where h is some small value. For function $f(x) = 2e^{0.5x}$, find the approximate error in evaluating $f^{\\prime}(3)$ using $h = 0.5$ and $h = 0.05$ \n"
   ]
  },
  {
   "cell_type": "code",
   "execution_count": 3,
   "metadata": {},
   "outputs": [],
   "source": [
    "import math\n",
    "import numpy as np"
   ]
  },
  {
   "cell_type": "code",
   "execution_count": 4,
   "metadata": {},
   "outputs": [],
   "source": [
    "def f_x(x):\n",
    "    return 2*math.exp(0.5*x)"
   ]
  },
  {
   "cell_type": "code",
   "execution_count": 5,
   "metadata": {},
   "outputs": [
    {
     "data": {
      "text/plain": [
       "8.963378140676129"
      ]
     },
     "execution_count": 5,
     "metadata": {},
     "output_type": "execute_result"
    }
   ],
   "source": [
    "f_x(3)"
   ]
  },
  {
   "cell_type": "code",
   "execution_count": 6,
   "metadata": {},
   "outputs": [
    {
     "data": {
      "text/plain": [
       "11.509205352011461"
      ]
     },
     "execution_count": 6,
     "metadata": {},
     "output_type": "execute_result"
    }
   ],
   "source": [
    "f_x(3.5)"
   ]
  },
  {
   "cell_type": "code",
   "execution_count": 7,
   "metadata": {},
   "outputs": [
    {
     "data": {
      "text/plain": [
       "-6.417550929340797"
      ]
     },
     "execution_count": 7,
     "metadata": {},
     "output_type": "execute_result"
    }
   ],
   "source": [
    "f_x(3.5)-f_x(3)/0.5"
   ]
  },
  {
   "cell_type": "code",
   "execution_count": 8,
   "metadata": {},
   "outputs": [],
   "source": [
    "def fprime_x(x):\n",
    "    return math.exp(0.5*x)"
   ]
  },
  {
   "cell_type": "code",
   "execution_count": 9,
   "metadata": {},
   "outputs": [
    {
     "data": {
      "text/plain": [
       "4.4816890703380645"
      ]
     },
     "execution_count": 9,
     "metadata": {},
     "output_type": "execute_result"
    }
   ],
   "source": [
    "fprime_x(3)"
   ]
  },
  {
   "cell_type": "code",
   "execution_count": 10,
   "metadata": {},
   "outputs": [],
   "source": [
    "def afprime_x(x,h):                #approximation of f prime x\n",
    "    return (f_x(x+h)-f_x(x))/h"
   ]
  },
  {
   "cell_type": "code",
   "execution_count": 11,
   "metadata": {},
   "outputs": [
    {
     "data": {
      "text/plain": [
       "5.091654422670665"
      ]
     },
     "execution_count": 11,
     "metadata": {},
     "output_type": "execute_result"
    }
   ],
   "source": [
    "afprime_x(3,0.5)"
   ]
  },
  {
   "cell_type": "code",
   "execution_count": 12,
   "metadata": {},
   "outputs": [
    {
     "data": {
      "text/plain": [
       "4.538179958744948"
      ]
     },
     "execution_count": 12,
     "metadata": {},
     "output_type": "execute_result"
    }
   ],
   "source": [
    "afprime_x(3,0.05)"
   ]
  },
  {
   "cell_type": "code",
   "execution_count": 13,
   "metadata": {},
   "outputs": [
    {
     "data": {
      "text/plain": [
       "13.610166675096655"
      ]
     },
     "execution_count": 13,
     "metadata": {},
     "output_type": "execute_result"
    }
   ],
   "source": [
    "error_1=abs(fprime_x(3)-afprime_x(3,0.5))/fprime_x(3)*100\n",
    "error_1"
   ]
  },
  {
   "cell_type": "code",
   "execution_count": 14,
   "metadata": {},
   "outputs": [
    {
     "data": {
      "text/plain": [
       "1.2604820977154956"
      ]
     },
     "execution_count": 14,
     "metadata": {},
     "output_type": "execute_result"
    }
   ],
   "source": [
    "error_2=abs(fprime_x(3)-afprime_x(3,0.05))/fprime_x(3)*100\n",
    "error_2"
   ]
  },
  {
   "cell_type": "markdown",
   "metadata": {},
   "source": [
    "Approximate error \n",
    "$$E_{a} = \\lvert f^{\\prime}(0.05)-f^{\\prime}(0.5) \\rvert$$\n",
    "$$E_{a} = 0.55347$$"
   ]
  },
  {
   "cell_type": "code",
   "execution_count": 16,
   "metadata": {},
   "outputs": [
    {
     "data": {
      "text/plain": [
       "0.553474463925717"
      ]
     },
     "execution_count": 16,
     "metadata": {},
     "output_type": "execute_result"
    }
   ],
   "source": [
    "Ea=abs(afprime_x(3,0.05)-afprime_x(3,0.5))\n",
    "Ea"
   ]
  },
  {
   "cell_type": "markdown",
   "metadata": {},
   "source": [
    "**Relative approximate error** measures the size of the approximate error with respect to the current approximation (or the more accurate one) of a quantity<br><br>\n",
    "\n",
    "$\\large \\epsilon_{a} = \\frac{E_{a}}{\\textrm{Current Approximation}} = \\frac{\\textrm{Current Approximation}- \\textrm{Previous Approximation}}{\\textrm{Current Approximation}}$  \n",
    "<br><br>\n",
    "Typically, relative error are reported in absolute values as a percentage<br>\n",
    "$$\\large \\epsilon_{a} = \\Bigg\\lvert \\frac{E_{a}}{\\textrm{Current Approximation}}\\Bigg\\rvert \\times 100\\% $$"
   ]
  },
  {
   "cell_type": "markdown",
   "metadata": {},
   "source": [
    "***\n",
    "$\\mathbf{\\text{Example 1}}$<br>\n",
    "***\n",
    "Use the Taylor series to evaluate the exponential function at $x=2$. Use 1,2,3, and 4 terms and report the relative approximate error for each term.<br>\n",
    "Recall that: $e^{x}=\\sum\\limits_{n=0}^{\\infty}\\frac{1}{n!}x^{n}=1+x+\\frac{1}{2}x^{2}+\\frac{1}{6}x^{3}+... \\textrm{for all }x$"
   ]
  },
  {
   "cell_type": "markdown",
   "metadata": {},
   "source": [
    "***\n",
    "$\\mathbf{\\text{Example 2}}$<br>\n",
    "***\n",
    "Write the Python code that uses the Taylor series to evaluate the exponential function down to an error (also called tolerance) of 1%<br>\n",
    "Recall that: $e^{x}=\\sum\\limits_{n=0}^{\\infty}\\frac{1}{n!}x^{n}=1+x+\\frac{1}{2}x^{2}+\\frac{1}{6}x^{3}+... \\textrm{for all }x$\n",
    "<br>\n",
    "Hint: Keep adding terms in the Taylor series until the desired tolerance is achieved"
   ]
  },
  {
   "cell_type": "code",
   "execution_count": 17,
   "metadata": {},
   "outputs": [],
   "source": [
    "import math"
   ]
  },
  {
   "cell_type": "markdown",
   "metadata": {},
   "source": [
    "## Brute Force Approach"
   ]
  },
  {
   "cell_type": "code",
   "execution_count": 20,
   "metadata": {},
   "outputs": [
    {
     "name": "stdout",
     "output_type": "stream",
     "text": [
      "Error withn 2 terms=  66.66666666666666 %\n",
      "Error withn 3 terms=  40.0 %\n",
      "Error withn 4 terms=  21.052631578947363 %\n",
      "Error withn 5 terms=  9.523809523809527 %\n",
      "7.0\n",
      "exact value: 7.38905609893065\n"
     ]
    }
   ],
   "source": [
    "x = 2.0 # we want to evaluate exp(2)\n",
    "\n",
    "term1 = 1.0\n",
    "result1 = term1\n",
    "\n",
    "term2 = x\n",
    "result2 = result1 + term2\n",
    "error2 = (result2-result1)/result2*100\n",
    "print('Error withn 2 terms= ',error2,'%')\n",
    "\n",
    "term3 = 1.0/math.factorial(2) * x**2\n",
    "result3 = result2 + term3\n",
    "error3 = abs((result3-result2)/result3*100)\n",
    "print('Error withn 3 terms= ',error3,'%')\n",
    "\n",
    "term4 = 1.0/math.factorial(3) * x**3\n",
    "result4 = result3 + term4\n",
    "error4 = abs((result4-result3)/result4*100)\n",
    "print('Error withn 4 terms= ',error4,'%')\n",
    "\n",
    "term5 = 1.0/math.factorial(4) * x**4\n",
    "result5 = result4 + term5\n",
    "error5 = abs((result5-result4)/result5*100)\n",
    "print('Error withn 5 terms= ',error5,'%')\n",
    "\n",
    "\n",
    "\n",
    "result = term1 + term2 + term3 + term4 + term5 \n",
    "print(result)\n",
    "print('exact value:', math.exp(2))"
   ]
  },
  {
   "cell_type": "markdown",
   "metadata": {},
   "source": [
    "The slightly smarter way of doing this"
   ]
  },
  {
   "cell_type": "code",
   "execution_count": 30,
   "metadata": {},
   "outputs": [
    {
     "ename": "IndentationError",
     "evalue": "unexpected indent (<ipython-input-30-0100246e7293>, line 7)",
     "output_type": "error",
     "traceback": [
      "\u001b[1;36m  File \u001b[1;32m\"<ipython-input-30-0100246e7293>\"\u001b[1;36m, line \u001b[1;32m7\u001b[0m\n\u001b[1;33m    err = abs(result[-1]-result[-2])/result[-1]*100\u001b[0m\n\u001b[1;37m    ^\u001b[0m\n\u001b[1;31mIndentationError\u001b[0m\u001b[1;31m:\u001b[0m unexpected indent\n"
     ]
    }
   ],
   "source": [
    "x = 2.0\n",
    "result = 0.0\n",
    "\n",
    "for n in range(0,10):\n",
    "    result = result + 1/math.factorial(n)*x**n\n",
    "    if err < 0.01:break\n",
    "        err = abs(result[-1]-result[-2])/result[-1]*100\n",
    "    print(err)"
   ]
  },
  {
   "cell_type": "code",
   "execution_count": 40,
   "metadata": {},
   "outputs": [
    {
     "name": "stdout",
     "output_type": "stream",
     "text": [
      "1.0 \t 100.0 %\n",
      "3.0 \t 66.66666666666666 %\n",
      "5.0 \t 40.0 %\n",
      "6.333333333333333 \t 21.052631578947363 %\n",
      "7.0 \t 9.523809523809527 %\n",
      "7.266666666666667 \t 3.669724770642201 %\n",
      "7.355555555555555 \t 1.2084592145015065 %\n"
     ]
    }
   ],
   "source": [
    "x = 2.0\n",
    "result = 0.0\n",
    "\n",
    "for n in range(0,1000):\n",
    "    previousApprox = result\n",
    "    result = result + 1/math.factorial(n)*x**n\n",
    "    ϵa = abs(result-previousApprox)/result*100\n",
    "    if ϵa <= 1.0:\n",
    "        break\n",
    "    print(result,'\\t',ϵa,'%')"
   ]
  },
  {
   "cell_type": "code",
   "execution_count": 48,
   "metadata": {},
   "outputs": [
    {
     "name": "stdout",
     "output_type": "stream",
     "text": [
      "100.0\n",
      "66.66666666666666\n",
      "40.0\n",
      "21.052631578947363\n",
      "9.523809523809527\n",
      "3.669724770642201\n",
      "1.2084592145015065\n",
      "0.34408602150537515\n"
     ]
    }
   ],
   "source": [
    "import numpy as np\n",
    "import math\n",
    "\n",
    "error = 100\n",
    "s = 0.0\n",
    "n = 0\n",
    "x = 2\n",
    "\n",
    "while error > 1:\n",
    "    oldSum = s\n",
    "    s += 1.0/math.factorial(n) *x**n\n",
    "    n +=1\n",
    "    error = abs(s-oldSum)/s*100\n",
    "    print(error)"
   ]
  },
  {
   "cell_type": "markdown",
   "metadata": {},
   "source": [
    "***\n",
    "$\\mathbf{\\text{Example: Round-off Errors}}$<br>\n",
    "***\n",
    "Use Python  to sum the number $10^{-5}$ $100,0000$ times. Use 16, 32, 64, and 128 bit precision floats and compare the numerical results to the true value. \n",
    "$$\\textrm{The exact value is } 10^{5}\\times10^{-5} = 1 $$"
   ]
  },
  {
   "cell_type": "code",
   "execution_count": 1,
   "metadata": {},
   "outputs": [
    {
     "name": "stdout",
     "output_type": "stream",
     "text": [
      "Errors\n",
      "16 bit error:\t1.358e-01%\n",
      "32 bit error:\t2.526e-06%\n",
      "64 bit error:\t1.916e-10%\n"
     ]
    }
   ],
   "source": [
    "import numpy as np\n",
    "x = 1e-5\n",
    "xhalf = np.float16(x)\n",
    "xsingle = np.float32(x)\n",
    "xdouble = np.float64(x)\n",
    "xquad = np.longdouble(x)\n",
    "s0 = 0.0 # store the value for the 16 bit summation\n",
    "s1 = 0.0\n",
    "s2 = 0.0\n",
    "s3 = 0.0\n",
    "for i in range(0,100000):\n",
    "    s0 = s0 + xhalf\n",
    "    s1 = s1 + xsingle\n",
    "    s2 = s2 + xdouble\n",
    "    s3 = s3 + xquad\n",
    "print('Errors')\n",
    "print('16 bit error:\\t{0:1.3e}%'.format(abs(1-s0)/1*100))\n",
    "print('32 bit error:\\t{0:1.3e}%'.format(abs(1-s1)/1*100))\n",
    "print('64 bit error:\\t{0:1.3e}%'.format(abs(1-s2)/1*100))"
   ]
  },
  {
   "cell_type": "code",
   "execution_count": null,
   "metadata": {},
   "outputs": [],
   "source": []
  }
 ],
 "metadata": {
  "kernelspec": {
   "display_name": "Python 3",
   "language": "python",
   "name": "python3"
  },
  "language_info": {
   "codemirror_mode": {
    "name": "ipython",
    "version": 3
   },
   "file_extension": ".py",
   "mimetype": "text/x-python",
   "name": "python",
   "nbconvert_exporter": "python",
   "pygments_lexer": "ipython3",
   "version": "3.8.3"
  }
 },
 "nbformat": 4,
 "nbformat_minor": 4
}
