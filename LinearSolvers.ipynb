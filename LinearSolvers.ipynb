{
 "cells": [
  {
   "cell_type": "markdown",
   "metadata": {
    "slideshow": {
     "slide_type": "slide"
    }
   },
   "source": [
    "# What is a Linear Equation\n",
    "A **linear equation** is one where the unknowns (or variables) show up in a linear fashion - rather than being squared or under complex functions\n",
    "<br><br>\n",
    "**Linear**<br>\n",
    "$2x + 3 = 0$<br>\n",
    "$ay = c$<br>\n",
    "$2u = 5$<br><br>\n",
    "**Nonlinear**<br>\n",
    "$2x^{2} + 3 = 0$<br>\n",
    "$a\\sqrt{y} = c$<br>\n",
    "$2\\textrm{ ln }u = 5$<br>\n"
   ]
  },
  {
   "cell_type": "code",
   "execution_count": 1,
   "metadata": {
    "slideshow": {
     "slide_type": "subslide"
    }
   },
   "outputs": [],
   "source": [
    "import numpy as np\n",
    "from numpy.linalg import solve"
   ]
  },
  {
   "cell_type": "code",
   "execution_count": null,
   "metadata": {
    "slideshow": {
     "slide_type": "fragment"
    }
   },
   "outputs": [],
   "source": []
  },
  {
   "cell_type": "code",
   "execution_count": 2,
   "metadata": {
    "slideshow": {
     "slide_type": "skip"
    }
   },
   "outputs": [],
   "source": [
    "A =np.array([[1.0, 1.0, 1.0],\n",
    "     [0.04, 0.54, 0.26],\n",
    "     [0.93, 0.24, 0.0]])\n",
    "b =np.array([10.0, 2.0, 6.0])"
   ]
  },
  {
   "cell_type": "code",
   "execution_count": 3,
   "metadata": {
    "slideshow": {
     "slide_type": "notes"
    }
   },
   "outputs": [
    {
     "name": "stdout",
     "output_type": "stream",
     "text": [
      "A = [[1.   1.   1.  ]\n",
      " [0.04 0.54 0.26]\n",
      " [0.93 0.24 0.  ]]\n",
      "b= [10.  2.  6.]\n"
     ]
    }
   ],
   "source": [
    "print('A =', A)\n",
    "print('b=', b)"
   ]
  },
  {
   "cell_type": "code",
   "execution_count": 4,
   "metadata": {},
   "outputs": [
    {
     "name": "stdout",
     "output_type": "stream",
     "text": [
      "[5.82375479 2.43295019 1.74329502]\n"
     ]
    }
   ],
   "source": [
    "x = solve(A,b)\n",
    "print(x)"
   ]
  },
  {
   "cell_type": "markdown",
   "metadata": {},
   "source": [
    "Using inverse"
   ]
  },
  {
   "cell_type": "code",
   "execution_count": 16,
   "metadata": {},
   "outputs": [],
   "source": [
    "from numpy.linalg import inv\n",
    "Ainv = inv(A)"
   ]
  },
  {
   "cell_type": "code",
   "execution_count": 17,
   "metadata": {},
   "outputs": [
    {
     "data": {
      "text/plain": [
       "array([[ 0.19923372, -0.76628352,  0.89399745],\n",
       "       [-0.77203065,  2.96934866,  0.70242656],\n",
       "       [ 1.57279693, -2.20306513, -1.59642401]])"
      ]
     },
     "execution_count": 17,
     "metadata": {},
     "output_type": "execute_result"
    }
   ],
   "source": [
    "Ainv"
   ]
  },
  {
   "cell_type": "code",
   "execution_count": 22,
   "metadata": {},
   "outputs": [
    {
     "name": "stdout",
     "output_type": "stream",
     "text": [
      "[  9.88505747 -14.94252874   0.76628352]\n"
     ]
    }
   ],
   "source": [
    "x = b @ Ainv #@ symbol is equivalent with the dot product\n",
    "print(x)"
   ]
  },
  {
   "cell_type": "code",
   "execution_count": 23,
   "metadata": {},
   "outputs": [
    {
     "name": "stdout",
     "output_type": "stream",
     "text": [
      "[5.82375479 2.43295019 1.74329502]\n"
     ]
    }
   ],
   "source": [
    "x = Ainv @ b\n",
    "print(x)"
   ]
  },
  {
   "cell_type": "code",
   "execution_count": 24,
   "metadata": {},
   "outputs": [
    {
     "data": {
      "text/plain": [
       "array([5.82375479, 2.43295019, 1.74329502])"
      ]
     },
     "execution_count": 24,
     "metadata": {},
     "output_type": "execute_result"
    }
   ],
   "source": [
    "Ainv.dot(b)"
   ]
  },
  {
   "cell_type": "markdown",
   "metadata": {},
   "source": [
    "## Solution method\n",
    "$$\\Large\\Big[ A \\Big]x = b$$\n",
    "<br>\n",
    "### Direct methods\n",
    "General approach to solving an arbitrary system of linear equatioins. No iteration involved\n",
    "\n",
    "### Iterative methods\n",
    "Effective and much cheaper for sparse matrices (plenty of zeros in the matrix)"
   ]
  },
  {
   "cell_type": "markdown",
   "metadata": {},
   "source": [
    "## Direct methods\n",
    "- **Gaussian Elimination**\n",
    "    - Algoritm to solve sytems of linear equations\n",
    "    - Basically a methodic approach to solving equations 'by hand' \n",
    "    - Cost scales as $n^{3}$ where $n$ is the number of equations\n",
    "- **LU Factorization**\n",
    "    - Useful when you need to solve Ax=b for different b but same A\n",
    "    - L -Lower diagonal matrix, U -Upper diagonal matrix\n",
    "    - Determining L, U is \"expensive\", but solving the resulting system is simple\n",
    "- **TDMA/PDMA**\n",
    "    - Efficient direct solution methods for tridiagonal and pentadiagonal matrices\n",
    "- **Fast FFT Solvers**\n",
    "    - Efficient direct solution methods for periodic problems"
   ]
  },
  {
   "cell_type": "code",
   "execution_count": null,
   "metadata": {},
   "outputs": [],
   "source": []
  }
 ],
 "metadata": {
  "celltoolbar": "Slideshow",
  "kernelspec": {
   "display_name": "Python 3",
   "language": "python",
   "name": "python3"
  },
  "language_info": {
   "codemirror_mode": {
    "name": "ipython",
    "version": 3
   },
   "file_extension": ".py",
   "mimetype": "text/x-python",
   "name": "python",
   "nbconvert_exporter": "python",
   "pygments_lexer": "ipython3",
   "version": "3.8.3"
  }
 },
 "nbformat": 4,
 "nbformat_minor": 4
}
